{
 "cells": [
  {
   "cell_type": "code",
   "execution_count": 13,
   "metadata": {},
   "outputs": [],
   "source": [
    "# in this example we will use the logistic regression model to predict the\n",
    "# survived passengers in the titanic dataset\n",
    "\n",
    "# import the libraries\n",
    "import pandas as pd\n",
    "import numpy as np\n",
    "import matplotlib.pyplot as plt\n",
    "import seaborn as sns\n",
    "\n"
   ]
  },
  {
   "cell_type": "code",
   "execution_count": 14,
   "metadata": {},
   "outputs": [
    {
     "data": {
      "image/png": "[encoded data removed]",
      "text/plain": [
       "<Figure size 640x480 with 2 Axes>"
      ]
     },
     "metadata": {},
     "output_type": "display_data"
    },
    {
     "name": "stdout",
     "output_type": "stream",
     "text": [
      "6.6449193398931055\n"
     ]
    }
   ],
   "source": [
    "# imort the dataset\n",
    "dataset = pd.read_csv('./train.csv')\n",
    "\n",
    "# drop the columns that are not needed\n",
    "dataset = dataset.drop(['PassengerId', 'Ticket', 'Cabin'], axis=1)\n",
    "\n",
    "# fill the missing  age values with the mean of the age\n",
    "dataset['Age'] = dataset['Age'].fillna(dataset['Age'].mean())\n",
    "\n",
    "# fill the missing fare values with the mean of the fare\n",
    "dataset['Fare'] = dataset['Fare'].fillna(dataset['Fare'].mean())\n",
    "\n",
    "# replace name with length of the name\n",
    "dataset['Name'] = dataset['Name'].apply(lambda x: len(x))\n",
    "\n",
    "# replace Sex with 0 for female and 1 for male\n",
    "dataset['Sex'] = dataset['Sex'].apply(lambda x: 0 if x=='female' else x)\n",
    "dataset['Sex'] = dataset['Sex'].apply(lambda x: 1 if x=='male' else x)\n",
    "# fill the missing Sex values with average \n",
    "dataset['Sex'] = dataset['Sex'].fillna(dataset['Sex'].mean())\n",
    "\n",
    "# replace Embarked with 0 for S, 1 for C and 2 for Q\n",
    "dataset['Embarked'] = dataset['Embarked'].apply(lambda x: 0 if x=='S' else x)\n",
    "dataset['Embarked'] = dataset['Embarked'].apply(lambda x: 1 if x=='C' else x)\n",
    "dataset['Embarked'] = dataset['Embarked'].apply(lambda x: 2 if x=='Q' else x)\n",
    "# fill the missing Embarked values with average\n",
    "dataset['Embarked'] = dataset['Embarked'].fillna(dataset['Embarked'].mean())\n",
    "\n",
    "# split the data as test and train\n",
    "from sklearn.model_selection import train_test_split\n",
    "X_train, X_test, y_train, y_test = train_test_split(dataset.drop(['Survived'], axis=1), dataset['Survived'], test_size=0.2, random_state=0)\n",
    "\n",
    "# scale the data\n",
    "from sklearn.preprocessing import StandardScaler\n",
    "sc = StandardScaler()\n",
    "X_train = sc.fit_transform(X_train)\n",
    "X_test = sc.transform(X_test)\n",
    "\n",
    "# fit the logistic regression model\n",
    "from sklearn.linear_model import LogisticRegression\n",
    "classifier = LogisticRegression(random_state=0)\n",
    "classifier.fit(X_train, y_train)\n",
    "\n",
    "# predict the test set results\n",
    "y_pred = classifier.predict(X_test)\n",
    "\n",
    "# make the confusion matrix\n",
    "from sklearn.metrics import confusion_matrix\n",
    "cm = confusion_matrix(y_test, y_pred)\n",
    "\n",
    "# calculate the accuracy\n",
    "from sklearn.metrics import accuracy_score\n",
    "accuracy = accuracy_score(y_test, y_pred)\n",
    "\n",
    "# plot the confusion matrix\n",
    "sns.heatmap(cm, annot=True, fmt='d')\n",
    "plt.show()\n",
    "\n",
    "# plot the cost function\n",
    "from sklearn.metrics import log_loss\n",
    "cost = log_loss(y_test, y_pred)\n",
    "print(cost)\n",
    "\n",
    "\n"
   ]
  },
  {
   "cell_type": "code",
   "execution_count": 15,
   "metadata": {},
   "outputs": [],
   "source": [
    "# load new data to predict\n",
    "new_data = pd.read_csv('./test.csv')\n",
    "\n",
    "# drop the columns that are not needed\n",
    "new_data = new_data.drop(['PassengerId', 'Ticket', 'Cabin'], axis=1)\n",
    "\n",
    "# fill the missing  age values with the mean of the age\n",
    "new_data['Age'] = new_data['Age'].fillna(new_data['Age'].mean())\n",
    "\n",
    "# fill the missing fare values with the mean of the fare\n",
    "new_data['Fare'] = new_data['Fare'].fillna(new_data['Fare'].mean())\n",
    "\n",
    "# replace name with length of the name\n",
    "new_data['Name'] = new_data['Name'].apply(lambda x: len(x))\n",
    "\n",
    "# replace Sex with 0 for female and 1 for male\n",
    "new_data['Sex'] = new_data['Sex'].apply(lambda x: 0 if x=='female' else x)\n",
    "new_data['Sex'] = new_data['Sex'].apply(lambda x: 1 if x=='male' else x)\n",
    "# fill the missing Sex values with average \n",
    "new_data['Sex'] = new_data['Sex'].fillna(new_data['Sex'].mean())\n",
    "\n",
    "# replace Embarked with 0 for S, 1 for C and 2 for Q\n",
    "new_data['Embarked'] = new_data['Embarked'].apply(lambda x: 0 if x=='S' else x)\n",
    "new_data['Embarked'] = new_data['Embarked'].apply(lambda x: 1 if x=='C' else x)\n",
    "new_data['Embarked'] = new_data['Embarked'].apply(lambda x: 2 if x=='Q' else x)\n",
    "# fill the missing Embarked values with average\n",
    "new_data['Embarked'] = new_data['Embarked'].fillna(new_data['Embarked'].mean())\n",
    "\n",
    "# scale the data\n",
    "new_data = sc.transform(new_data)\n",
    "\n",
    "# predict the new data\n",
    "new_data_pred = classifier.predict(new_data)\n",
    "\n",
    "# prepare the submission file\n",
    "submission = pd.DataFrame({\n",
    "        \"PassengerId\": pd.read_csv('./test.csv')['PassengerId'],\n",
    "        \"Survived\": new_data_pred\n",
    "    })\n",
    "submission.to_csv('submission.csv', index=False)\n",
    "\n",
    "\n",
    "\n",
    "\n",
    "\n",
    "\n"
   ]
  }
 ],
 "metadata": {
  "kernelspec": {
   "display_name": "venv",
   "language": "python",
   "name": "python3"
  },
  "language_info": {
   "codemirror_mode": {
    "name": "ipython",
    "version": 3
   },
   "file_extension": ".py",
   "mimetype": "text/x-python",
   "name": "python",
   "nbconvert_exporter": "python",
   "pygments_lexer": "ipython3",
   "version": "3.11.0"
  },
  "orig_nbformat": 4,
  "vscode": {
   "interpreter": {
    "hash": "99eeeecd852f90cd9f167ab560c9486d9a0903a47b190f3dc02cb858ee24e03d"
   }
  }
 },
 "nbformat": 4,
 "nbformat_minor": 2
}
